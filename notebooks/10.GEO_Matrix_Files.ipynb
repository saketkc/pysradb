{
 "cells": [
  {
   "cell_type": "markdown",
   "metadata": {},
   "source": [
    "# Working with GEO Matrix Files\n",
    "\n",
    "This notebook demonstrates how to use pysradb to download and process GEO Matrix files, which contain processed expression data from NCBI's Gene Expression Omnibus (GEO)."
   ]
  },
  {
   "cell_type": "markdown",
   "metadata": {},
   "source": [
    "## What are GEO Matrix Files?\n",
    "\n",
    "GEO Matrix files are tab-delimited text files that contain processed expression data from microarray or sequencing experiments. They typically have the following structure:\n",
    "\n",
    "1. Metadata lines that start with `!` character\n",
    "2. A header line with sample identifiers\n",
    "3. Data rows with gene/probe identifiers and expression values"
   ]
  },
  {
   "cell_type": "markdown",
   "metadata": {},
   "source": [
    "## Using the GEOMatrix Class\n",
    "\n",
    "First, let's import the necessary modules:"
   ]
  },
  {
   "cell_type": "code",
   "execution_count": null,
   "metadata": {},
   "outputs": [],
   "source": [
    "import os\n",
    "import pandas as pd\n",
    "from pysradb.geomatrix import GEOMatrix"
   ]
  },
  {
   "cell_type": "markdown",
   "metadata": {},
   "source": [
    "### Initialize with a GEO Accession\n",
    "\n",
    "Let's initialize the GEOMatrix class with a GEO accession number. We'll use GSE234190 as an example."
   ]
  },
  {
   "cell_type": "code",
   "execution_count": null,
   "metadata": {},
   "outputs": [],
   "source": [
    "matrix = GEOMatrix(\"GSE234190\")"
   ]
  },
  {
   "cell_type": "markdown",
   "metadata": {},
   "source": [
    "### Get Matrix Links\n",
    "\n",
    "First, let's check what matrix files are available for this GEO accession:"
   ]
  },
  {
   "cell_type": "code",
   "execution_count": null,
   "metadata": {},
   "outputs": [],
   "source": [
    "links, url = matrix.get_matrix_links()\n",
    "print(f\"Matrix URL: {url}\")\n",
    "print(f\"Available matrix files: {links}\")"
   ]
  },
  {
   "cell_type": "markdown",
   "metadata": {},
   "source": [
    "### Download Matrix Files\n",
    "\n",
    "Now, let's download the matrix files:"
   ]
  },
  {
   "cell_type": "code",
   "execution_count": null,
   "metadata": {},
   "outputs": [],
   "source": [
    "out_dir = \"./geo_matrix_files\"\n",
    "downloaded_files = matrix.download_matrix(out_dir=out_dir)\n",
    "print(f\"Downloaded files: {downloaded_files}\")"
   ]
  },
  {
   "cell_type": "markdown",
   "metadata": {},
   "source": [
    "### Parse Matrix Files\n",
    "\n",
    "Now, let's parse the downloaded matrix file to extract metadata and data:"
   ]
  },
  {
   "cell_type": "code",
   "execution_count": null,
   "metadata": {},
   "outputs": [],
   "source": [
    "metadata, data = matrix.parse_matrix()\n",
    "\n",
    "# Print some metadata\n",
    "print(\"Matrix file metadata (first 5 entries):\")\n",
    "for key, value in list(metadata.items())[:5]:\n",
    "    print(f\"{key}: {value}\")\n",
    "print(f\"... and {len(metadata) - 5} more metadata entries\")\n",
    "\n",
    "# Print data summary\n",
    "print(f\"\\nMatrix file data shape: {data.shape}\")\n",
    "print(f\"First few rows and columns:\")\n",
    "print(data.iloc[:5, :5])"
   ]
  },
  {
   "cell_type": "markdown",
   "metadata": {},
   "source": [
    "### Convert to DataFrame\n",
    "\n",
    "You can also directly get the data as a pandas DataFrame:"
   ]
  },
  {
   "cell_type": "code",
   "execution_count": null,
   "metadata": {},
   "outputs": [],
   "source": [
    "df = matrix.to_dataframe()\n",
    "print(f\"DataFrame shape: {df.shape}\")\n",
    "print(f\"DataFrame columns: {df.columns[:5]}...\")\n",
    "print(f\"DataFrame index: {df.index[:5]}...\")"
   ]
  },
  {
   "cell_type": "markdown",
   "metadata": {},
   "source": [
    "### Convert to TSV\n",
    "\n",
    "Finally, let's convert the matrix file to a clean TSV format:"
   ]
  },
  {
   "cell_type": "code",
   "execution_count": null,
   "metadata": {},
   "outputs": [],
   "source": [
    "output_file = os.path.join(out_dir, \"GSE234190_matrix.tsv\")\n",
    "matrix.to_tsv(output_file)\n",
    "print(f\"Matrix file converted to TSV: {output_file}\")\n",
    "\n",
    "# Verify the TSV file\n",
    "tsv_df = pd.read_csv(output_file, sep='\\t', index_col=0)\n",
    "print(f\"TSV DataFrame shape: {tsv_df.shape}\")\n",
    "print(f\"First few rows and columns:\")\n",
    "print(tsv_df.iloc[:5, :5])"
   ]
  },
  {
   "cell_type": "markdown",
   "metadata": {},
   "source": [
    "## Using the Command Line Interface\n",
    "\n",
    "pysradb also provides a command-line interface for working with GEO Matrix files. Here are some examples:\n",
    "\n",
    "### Download GEO Matrix Files\n",
    "\n",
    "```bash\n",
    "pysradb geo-matrix --accession GSE234190\n",
    "```\n",
    "\n",
    "### Download and Convert to TSV\n",
    "\n",
    "```bash\n",
    "pysradb geo-matrix --accession GSE234190 --to-tsv\n",
    "```\n",
    "\n",
    "### Specify Output Directory\n",
    "\n",
    "```bash\n",
    "pysradb geo-matrix --accession GSE234190 --out-dir ./my_data\n",
    "```\n",
    "\n",
    "### Specify Output TSV File\n",
    "\n",
    "```bash\n",
    "pysradb geo-matrix --accession GSE234190 --to-tsv --output-file ./my_data/expression_data.tsv\n",
    "```\n",
    "\n",
    "### Download Only Matrix Files with Existing Command\n",
    "\n",
    "```bash\n",
    "pysradb download --geo GSE234190 --matrix-only\n",
    "```"
   ]
  },
  {
   "cell_type": "markdown",
   "metadata": {},
   "source": [
    "## Working with Expression Data\n",
    "\n",
    "Once you have the expression data as a pandas DataFrame, you can perform various analyses:"
   ]
  },
  {
   "cell_type": "code",
   "execution_count": null,
   "metadata": {},
   "outputs": [],
   "source": [
    "# Basic statistics\n",
    "print(f\"Mean expression per sample:\\n{df.mean().head()}\")\n",
    "print(f\"\\nMedian expression per sample:\\n{df.median().head()}\")\n",
    "\n",
    "# Filter for specific genes (if applicable)\n",
    "if any(df.index.str.contains('BRCA1')):\n",
    "    brca1_genes = df[df.index.str.contains('BRCA1')]\n",
    "    print(f\"\\nBRCA1 gene expression:\\n{brca1_genes}\")\n",
    "\n",
    "# Visualize distribution of expression values\n",
    "try:\n",
    "    import matplotlib.pyplot as plt\n",
    "    import seaborn as sns\n",
    "    \n",
    "    plt.figure(figsize=(10, 6))\n",
    "    sns.boxplot(data=df.iloc[:100, :5])  # Plot first 100 genes, first 5 samples\n",
    "    plt.title('Expression Distribution (First 100 genes, First 5 samples)')\n",
    "    plt.xticks(rotation=45)\n",
    "    plt.tight_layout()\n",
    "    plt.show()\n",
    "except ImportError:\n",
    "    print(\"Matplotlib and/or Seaborn not available for visualization\")"
   ]
  },
  {
   "cell_type": "markdown",
   "metadata": {},
   "source": [
    "## Conclusion\n",
    "\n",
    "pysradb provides a convenient way to download and process GEO Matrix files, making it easier to work with processed expression data from GEO. The GEOMatrix class offers methods for downloading, parsing, and converting matrix files, while the command-line interface provides a simple way to perform these operations from the terminal."
   ]
  }
 ],
 "metadata": {
  "kernelspec": {
   "display_name": "Python 3",
   "language": "python",
   "name": "python3"
  },
  "language_info": {
   "codemirror_mode": {
    "name": "ipython",
    "version": 3
   },
   "file_extension": ".py",
   "mimetype": "text/x-python",
   "name": "python",
   "nbconvert_exporter": "python",
   "pygments_lexer": "ipython3",
   "version": "3.8.5"
  }
 },
 "nbformat": 4,
 "nbformat_minor": 4
}
