{
  "nbformat": 4,
  "nbformat_minor": 0,
  "metadata": {
    "colab": {
      "name": "08.pysradb_ascp_multithreaded.ipynb",
      "provenance": [],
      "collapsed_sections": [],
      "authorship_tag": "ABX9TyPTcU2mXGnTP1eU7Gjm5Pdb",
      "include_colab_link": true
    },
    "kernelspec": {
      "name": "python3",
      "display_name": "Python 3"
    }
  },
  "cells": [
    {
      "cell_type": "markdown",
      "metadata": {
        "id": "view-in-github",
        "colab_type": "text"
      },
      "source": [
        "<a href=\"https://colab.research.google.com/github/saketkc/pysradb/blob/master/notebooks/08.pysradb_ascp_multithreaded.ipynb\" target=\"_parent\"><img src=\"https://colab.research.google.com/assets/colab-badge.svg\" alt=\"Open In Colab\"/></a>"
      ]
    },
    {
      "cell_type": "code",
      "metadata": {
        "id": "d58KlFuYPSbN",
        "colab_type": "code",
        "colab": {
          "base_uri": "https://localhost:8080/",
          "height": 1000
        },
        "outputId": "3b683f20-e95c-45d6-8bd0-abf27cb9cd91"
      },
      "source": [
        "!git clone https://github.com/saketkc/pysradb.git\n",
        "!cd pysradb && git log | head && pip install -r requirements.txt && make install"
      ],
      "execution_count": 1,
      "outputs": [
        {
          "output_type": "stream",
          "text": [
            "Cloning into 'pysradb'...\n",
            "remote: Enumerating objects: 2232, done.\u001b[K\n",
            "remote: Total 2232 (delta 0), reused 0 (delta 0), pack-reused 2232\u001b[K\n",
            "Receiving objects: 100% (2232/2232), 3.59 MiB | 25.89 MiB/s, done.\n",
            "Resolving deltas: 100% (1511/1511), done.\n",
            "commit 7ffbba6eb775f5ae06af754cb0978c60022b3058\n",
            "Author: Saket Choudhary <saketkc@gmail.com>\n",
            "Date:   Sat Aug 8 17:53:40 2020 -0400\n",
            "\n",
            "    Update tqdm\n",
            "\n",
            "commit a57a70bc062f58d157c7e7428aff109b1585207e\n",
            "Author: Saket Choudhary <saketkc@gmail.com>\n",
            "Date:   Sat Aug 8 17:50:28 2020 -0400\n",
            "\n",
            "Collecting pandas==1.0.1\n",
            "\u001b[?25l  Downloading https://files.pythonhosted.org/packages/08/ec/b5dd8cfb078380fb5ae9325771146bccd4e8cad2d3e4c72c7433010684eb/pandas-1.0.1-cp36-cp36m-manylinux1_x86_64.whl (10.1MB)\n",
            "\u001b[K     |████████████████████████████████| 10.1MB 2.6MB/s \n",
            "\u001b[?25hRequirement already satisfied: requests==2.23.0 in /usr/local/lib/python3.6/dist-packages (from -r requirements.txt (line 2)) (2.23.0)\n",
            "Collecting tqdm==4.48.2\n",
            "\u001b[?25l  Downloading https://files.pythonhosted.org/packages/28/7e/281edb5bc3274dfb894d90f4dbacfceaca381c2435ec6187a2c6f329aed7/tqdm-4.48.2-py2.py3-none-any.whl (68kB)\n",
            "\u001b[K     |████████████████████████████████| 71kB 5.2MB/s \n",
            "\u001b[?25hCollecting xmltodict==0.12.0\n",
            "  Downloading https://files.pythonhosted.org/packages/28/fd/30d5c1d3ac29ce229f6bdc40bbc20b28f716e8b363140c26eff19122d8a5/xmltodict-0.12.0-py2.py3-none-any.whl\n",
            "Requirement already satisfied: numpy>=1.13.3 in /usr/local/lib/python3.6/dist-packages (from pandas==1.0.1->-r requirements.txt (line 1)) (1.18.5)\n",
            "Requirement already satisfied: python-dateutil>=2.6.1 in /usr/local/lib/python3.6/dist-packages (from pandas==1.0.1->-r requirements.txt (line 1)) (2.8.1)\n",
            "Requirement already satisfied: pytz>=2017.2 in /usr/local/lib/python3.6/dist-packages (from pandas==1.0.1->-r requirements.txt (line 1)) (2018.9)\n",
            "Requirement already satisfied: idna<3,>=2.5 in /usr/local/lib/python3.6/dist-packages (from requests==2.23.0->-r requirements.txt (line 2)) (2.10)\n",
            "Requirement already satisfied: chardet<4,>=3.0.2 in /usr/local/lib/python3.6/dist-packages (from requests==2.23.0->-r requirements.txt (line 2)) (3.0.4)\n",
            "Requirement already satisfied: urllib3!=1.25.0,!=1.25.1,<1.26,>=1.21.1 in /usr/local/lib/python3.6/dist-packages (from requests==2.23.0->-r requirements.txt (line 2)) (1.24.3)\n",
            "Requirement already satisfied: certifi>=2017.4.17 in /usr/local/lib/python3.6/dist-packages (from requests==2.23.0->-r requirements.txt (line 2)) (2020.6.20)\n",
            "Requirement already satisfied: six>=1.5 in /usr/local/lib/python3.6/dist-packages (from python-dateutil>=2.6.1->pandas==1.0.1->-r requirements.txt (line 1)) (1.15.0)\n",
            "Installing collected packages: pandas, tqdm, xmltodict\n",
            "  Found existing installation: pandas 1.0.5\n",
            "    Uninstalling pandas-1.0.5:\n",
            "      Successfully uninstalled pandas-1.0.5\n",
            "  Found existing installation: tqdm 4.41.1\n",
            "    Uninstalling tqdm-4.41.1:\n",
            "      Successfully uninstalled tqdm-4.41.1\n",
            "Successfully installed pandas-1.0.1 tqdm-4.48.2 xmltodict-0.12.0\n",
            "rm -fr build/\n",
            "rm -fr dist/\n",
            "rm -fr .eggs/\n",
            "find . -name '*.egg-info' -exec rm -fr {} +\n",
            "find . -name '*.egg' -exec rm -f {} +\n",
            "find . -name '*.pyc' -exec rm -f {} +\n",
            "find . -name '*.pyo' -exec rm -f {} +\n",
            "find . -name '*~' -exec rm -f {} +\n",
            "find . -name '__pycache__' -exec rm -fr {} +\n",
            "rm -fr .tox/\n",
            "rm -f .coverage\n",
            "rm -fr htmlcov/\n",
            "rm -fr .pytest_cache\n",
            "python setup.py install\n",
            "/usr/local/lib/python3.6/dist-packages/setuptools/dist.py:458: UserWarning: Normalizing '0.10.5-dev0' to '0.10.5.dev0'\n",
            "  warnings.warn(tmpl.format(**locals()))\n",
            "running install\n",
            "running bdist_egg\n",
            "running egg_info\n",
            "creating pysradb.egg-info\n",
            "writing pysradb.egg-info/PKG-INFO\n",
            "writing dependency_links to pysradb.egg-info/dependency_links.txt\n",
            "writing entry points to pysradb.egg-info/entry_points.txt\n",
            "writing requirements to pysradb.egg-info/requires.txt\n",
            "writing top-level names to pysradb.egg-info/top_level.txt\n",
            "writing manifest file 'pysradb.egg-info/SOURCES.txt'\n",
            "reading manifest template 'MANIFEST.in'\n",
            "warning: no previously-included files matching '__pycache__' found under directory '*'\n",
            "warning: no previously-included files matching '*.py[co]' found under directory '*'\n",
            "warning: no previously-included files matching '*.sqlite' found under directory '*'\n",
            "warning: no previously-included files matching '*.sqlite.gz' found under directory '*'\n",
            "warning: no files found matching '*.jpg' under directory 'docs'\n",
            "warning: no files found matching '*.gif' under directory 'docs'\n",
            "writing manifest file 'pysradb.egg-info/SOURCES.txt'\n",
            "installing library code to build/bdist.linux-x86_64/egg\n",
            "running install_lib\n",
            "running build_py\n",
            "creating build\n",
            "creating build/lib\n",
            "creating build/lib/pysradb\n",
            "copying pysradb/taxid2name.py -> build/lib/pysradb\n",
            "copying pysradb/geodb.py -> build/lib/pysradb\n",
            "copying pysradb/__init__.py -> build/lib/pysradb\n",
            "copying pysradb/download.py -> build/lib/pysradb\n",
            "copying pysradb/filter_attrs.py -> build/lib/pysradb\n",
            "copying pysradb/sraweb.py -> build/lib/pysradb\n",
            "copying pysradb/sradb.py -> build/lib/pysradb\n",
            "copying pysradb/basedb.py -> build/lib/pysradb\n",
            "copying pysradb/cli.py -> build/lib/pysradb\n",
            "copying pysradb/utils.py -> build/lib/pysradb\n",
            "creating build/bdist.linux-x86_64\n",
            "creating build/bdist.linux-x86_64/egg\n",
            "creating build/bdist.linux-x86_64/egg/pysradb\n",
            "copying build/lib/pysradb/taxid2name.py -> build/bdist.linux-x86_64/egg/pysradb\n",
            "copying build/lib/pysradb/geodb.py -> build/bdist.linux-x86_64/egg/pysradb\n",
            "copying build/lib/pysradb/__init__.py -> build/bdist.linux-x86_64/egg/pysradb\n",
            "copying build/lib/pysradb/download.py -> build/bdist.linux-x86_64/egg/pysradb\n",
            "copying build/lib/pysradb/filter_attrs.py -> build/bdist.linux-x86_64/egg/pysradb\n",
            "copying build/lib/pysradb/sraweb.py -> build/bdist.linux-x86_64/egg/pysradb\n",
            "copying build/lib/pysradb/sradb.py -> build/bdist.linux-x86_64/egg/pysradb\n",
            "copying build/lib/pysradb/basedb.py -> build/bdist.linux-x86_64/egg/pysradb\n",
            "copying build/lib/pysradb/cli.py -> build/bdist.linux-x86_64/egg/pysradb\n",
            "copying build/lib/pysradb/utils.py -> build/bdist.linux-x86_64/egg/pysradb\n",
            "byte-compiling build/bdist.linux-x86_64/egg/pysradb/taxid2name.py to taxid2name.cpython-36.pyc\n",
            "byte-compiling build/bdist.linux-x86_64/egg/pysradb/geodb.py to geodb.cpython-36.pyc\n",
            "byte-compiling build/bdist.linux-x86_64/egg/pysradb/__init__.py to __init__.cpython-36.pyc\n",
            "byte-compiling build/bdist.linux-x86_64/egg/pysradb/download.py to download.cpython-36.pyc\n",
            "byte-compiling build/bdist.linux-x86_64/egg/pysradb/filter_attrs.py to filter_attrs.cpython-36.pyc\n",
            "byte-compiling build/bdist.linux-x86_64/egg/pysradb/sraweb.py to sraweb.cpython-36.pyc\n",
            "byte-compiling build/bdist.linux-x86_64/egg/pysradb/sradb.py to sradb.cpython-36.pyc\n",
            "byte-compiling build/bdist.linux-x86_64/egg/pysradb/basedb.py to basedb.cpython-36.pyc\n",
            "byte-compiling build/bdist.linux-x86_64/egg/pysradb/cli.py to cli.cpython-36.pyc\n",
            "byte-compiling build/bdist.linux-x86_64/egg/pysradb/utils.py to utils.cpython-36.pyc\n",
            "creating build/bdist.linux-x86_64/egg/EGG-INFO\n",
            "copying pysradb.egg-info/PKG-INFO -> build/bdist.linux-x86_64/egg/EGG-INFO\n",
            "copying pysradb.egg-info/SOURCES.txt -> build/bdist.linux-x86_64/egg/EGG-INFO\n",
            "copying pysradb.egg-info/dependency_links.txt -> build/bdist.linux-x86_64/egg/EGG-INFO\n",
            "copying pysradb.egg-info/entry_points.txt -> build/bdist.linux-x86_64/egg/EGG-INFO\n",
            "copying pysradb.egg-info/not-zip-safe -> build/bdist.linux-x86_64/egg/EGG-INFO\n",
            "copying pysradb.egg-info/requires.txt -> build/bdist.linux-x86_64/egg/EGG-INFO\n",
            "copying pysradb.egg-info/top_level.txt -> build/bdist.linux-x86_64/egg/EGG-INFO\n",
            "creating dist\n",
            "creating 'dist/pysradb-0.10.5.dev0-py3.6.egg' and adding 'build/bdist.linux-x86_64/egg' to it\n",
            "removing 'build/bdist.linux-x86_64/egg' (and everything under it)\n",
            "Processing pysradb-0.10.5.dev0-py3.6.egg\n",
            "creating /usr/local/lib/python3.6/dist-packages/pysradb-0.10.5.dev0-py3.6.egg\n",
            "Extracting pysradb-0.10.5.dev0-py3.6.egg to /usr/local/lib/python3.6/dist-packages\n",
            "Adding pysradb 0.10.5.dev0 to easy-install.pth file\n",
            "Installing pysradb script to /usr/local/bin\n",
            "\n",
            "Installed /usr/local/lib/python3.6/dist-packages/pysradb-0.10.5.dev0-py3.6.egg\n",
            "Processing dependencies for pysradb==0.10.5.dev0\n",
            "Searching for xmltodict==0.12.0\n",
            "Best match: xmltodict 0.12.0\n",
            "Adding xmltodict 0.12.0 to easy-install.pth file\n",
            "\n",
            "Using /usr/local/lib/python3.6/dist-packages\n",
            "Searching for tqdm==4.48.2\n",
            "Best match: tqdm 4.48.2\n",
            "Adding tqdm 4.48.2 to easy-install.pth file\n",
            "Installing tqdm script to /usr/local/bin\n",
            "\n",
            "Using /usr/local/lib/python3.6/dist-packages\n",
            "Searching for requests==2.23.0\n",
            "Best match: requests 2.23.0\n",
            "Adding requests 2.23.0 to easy-install.pth file\n",
            "\n",
            "Using /usr/local/lib/python3.6/dist-packages\n",
            "Searching for pandas==1.0.1\n",
            "Best match: pandas 1.0.1\n",
            "Adding pandas 1.0.1 to easy-install.pth file\n",
            "\n",
            "Using /usr/local/lib/python3.6/dist-packages\n",
            "Searching for certifi==2020.6.20\n",
            "Best match: certifi 2020.6.20\n",
            "Adding certifi 2020.6.20 to easy-install.pth file\n",
            "\n",
            "Using /usr/local/lib/python3.6/dist-packages\n",
            "Searching for urllib3==1.24.3\n",
            "Best match: urllib3 1.24.3\n",
            "Adding urllib3 1.24.3 to easy-install.pth file\n",
            "\n",
            "Using /usr/local/lib/python3.6/dist-packages\n",
            "Searching for chardet==3.0.4\n",
            "Best match: chardet 3.0.4\n",
            "Adding chardet 3.0.4 to easy-install.pth file\n",
            "Installing chardetect script to /usr/local/bin\n",
            "\n",
            "Using /usr/local/lib/python3.6/dist-packages\n",
            "Searching for idna==2.10\n",
            "Best match: idna 2.10\n",
            "Adding idna 2.10 to easy-install.pth file\n",
            "\n",
            "Using /usr/local/lib/python3.6/dist-packages\n",
            "Searching for numpy==1.18.5\n",
            "Best match: numpy 1.18.5\n",
            "Adding numpy 1.18.5 to easy-install.pth file\n",
            "Installing f2py script to /usr/local/bin\n",
            "Installing f2py3 script to /usr/local/bin\n",
            "Installing f2py3.6 script to /usr/local/bin\n",
            "\n",
            "Using /usr/local/lib/python3.6/dist-packages\n",
            "Searching for python-dateutil==2.8.1\n",
            "Best match: python-dateutil 2.8.1\n",
            "Adding python-dateutil 2.8.1 to easy-install.pth file\n",
            "\n",
            "Using /usr/local/lib/python3.6/dist-packages\n",
            "Searching for pytz==2018.9\n",
            "Best match: pytz 2018.9\n",
            "Adding pytz 2018.9 to easy-install.pth file\n",
            "\n",
            "Using /usr/local/lib/python3.6/dist-packages\n",
            "Searching for six==1.15.0\n",
            "Best match: six 1.15.0\n",
            "Adding six 1.15.0 to easy-install.pth file\n",
            "\n",
            "Using /usr/local/lib/python3.6/dist-packages\n",
            "Finished processing dependencies for pysradb==0.10.5.dev0\n"
          ],
          "name": "stdout"
        }
      ]
    },
    {
      "cell_type": "code",
      "metadata": {
        "id": "2T2mGqZiPeZS",
        "colab_type": "code",
        "colab": {
          "base_uri": "https://localhost:8080/",
          "height": 190
        },
        "outputId": "d8a049d8-3a3d-497c-d657-52535fd7a80c"
      },
      "source": [
        "pip install ipython-autotime"
      ],
      "execution_count": 2,
      "outputs": [
        {
          "output_type": "stream",
          "text": [
            "Collecting ipython-autotime\n",
            "  Downloading https://files.pythonhosted.org/packages/e6/f9/0626bbdb322e3a078d968e87e3b01341e7890544de891d0cb613641220e6/ipython-autotime-0.1.tar.bz2\n",
            "Building wheels for collected packages: ipython-autotime\n",
            "  Building wheel for ipython-autotime (setup.py) ... \u001b[?25l\u001b[?25hdone\n",
            "  Created wheel for ipython-autotime: filename=ipython_autotime-0.1-cp36-none-any.whl size=1832 sha256=66f714a7645cc60e3fadca3a6f4d76726e652c2d0c6513065925f71698645b44\n",
            "  Stored in directory: /root/.cache/pip/wheels/d2/df/81/2db1e54bc91002cec40334629bc39cfa86dff540b304ebcd6e\n",
            "Successfully built ipython-autotime\n",
            "Installing collected packages: ipython-autotime\n",
            "Successfully installed ipython-autotime-0.1\n"
          ],
          "name": "stdout"
        }
      ]
    },
    {
      "cell_type": "code",
      "metadata": {
        "id": "CwwkSD9SPoxv",
        "colab_type": "code",
        "colab": {}
      },
      "source": [
        "%load_ext autotime"
      ],
      "execution_count": 3,
      "outputs": []
    },
    {
      "cell_type": "code",
      "metadata": {
        "id": "JCjvoowbQcgI",
        "colab_type": "code",
        "colab": {
          "base_uri": "https://localhost:8080/",
          "height": 292
        },
        "outputId": "1e144cef-7882-4d2a-dc91-3b5fbd23584a"
      },
      "source": [
        "!wget -c https://download.asperasoft.com/download/sw/connect/3.9.9/ibm-aspera-connect-3.9.9.177872-linux-g2.12-64.tar.gz\n",
        "!tar -zxvf ibm-aspera-connect-3.9.9.177872-linux-g2.12-64.tar.gz && ls"
      ],
      "execution_count": 4,
      "outputs": [
        {
          "output_type": "stream",
          "text": [
            "--2020-08-08 22:15:07--  https://download.asperasoft.com/download/sw/connect/3.9.9/ibm-aspera-connect-3.9.9.177872-linux-g2.12-64.tar.gz\n",
            "Resolving download.asperasoft.com (download.asperasoft.com)... 184.72.56.59\n",
            "Connecting to download.asperasoft.com (download.asperasoft.com)|184.72.56.59|:443... connected.\n",
            "HTTP request sent, awaiting response... 200 OK\n",
            "Length: 37797375 (36M) [application/x-gzip]\n",
            "Saving to: ‘ibm-aspera-connect-3.9.9.177872-linux-g2.12-64.tar.gz’\n",
            "\n",
            "ibm-aspera-connect- 100%[===================>]  36.05M  9.50MB/s    in 4.2s    \n",
            "\n",
            "2020-08-08 22:15:12 (8.59 MB/s) - ‘ibm-aspera-connect-3.9.9.177872-linux-g2.12-64.tar.gz’ saved [37797375/37797375]\n",
            "\n",
            "ibm-aspera-connect-3.9.9.177872-linux-g2.12-64.sh\n",
            "ibm-aspera-connect-3.9.9.177872-linux-g2.12-64.sh      pysradb\n",
            "ibm-aspera-connect-3.9.9.177872-linux-g2.12-64.tar.gz  sample_data\n",
            "time: 6.41 s\n"
          ],
          "name": "stdout"
        }
      ]
    },
    {
      "cell_type": "code",
      "metadata": {
        "id": "FZAqmoUsQjDl",
        "colab_type": "code",
        "colab": {
          "base_uri": "https://localhost:8080/",
          "height": 102
        },
        "outputId": "edeb70ca-4bf1-46d5-f9b7-f7db61f6dde7"
      },
      "source": [
        "!bash ibm-aspera-connect-3.9.9.177872-linux-g2.12-64.sh\n"
      ],
      "execution_count": 5,
      "outputs": [
        {
          "output_type": "stream",
          "text": [
            "\n",
            "Installing IBM Aspera Connect\n",
            "\n",
            "This script cannot be run as root, IBM Aspera Connect must be installed per user.\n",
            "time: 1.96 s\n"
          ],
          "name": "stdout"
        }
      ]
    },
    {
      "cell_type": "markdown",
      "metadata": {
        "id": "EYX9WloY6ktO",
        "colab_type": "text"
      },
      "source": [
        "# Multithreaded"
      ]
    },
    {
      "cell_type": "code",
      "metadata": {
        "id": "yKDX_0RF6nnf",
        "colab_type": "code",
        "colab": {
          "base_uri": "https://localhost:8080/",
          "height": 615
        },
        "outputId": "9a0d63c6-2631-4d48-b0e5-c3d7476e1a5f"
      },
      "source": [
        "!pysradb download -y -t 8 -p SRP002605 && rm -rf pysradb_downloads"
      ],
      "execution_count": 6,
      "outputs": [
        {
          "output_type": "stream",
          "text": [
            "The following files will be downloaded: \n",
            "\n",
            "study_accession experiment_accession experiment_title                           experiment_desc                            organism_taxid  organism_name library_strategy library_source  library_selection sample_accession sample_title instrument                   total_spots total_size run_accession run_total_spots run_total_bases run_alias    sra_url_alt1                                             sra_url_alt2                                             srapath_url                                                                            experiment_alias                           source_name transfection    time  ena_fastq_http                                                           ena_fastq_ftp                                                               download_url out_dir                    \n",
            " SRP002605       SRX021977                GSM546931: mRNASeq_miR-1_12hr_runs1-2      GSM546931: mRNASeq_miR-1_12hr_runs1-2  9606            Homo sapiens  RNA-Seq          TRANSCRIPTOMIC  cDNA              SRS079396        N/A          Illumina Genome Analyzer II  28019427    513554175  SRR057533     25590178        921246408       GSM546931_1    gs://sra-pub-src-12/SRR057533/031610_s_3_sequence.txt    s3://sra-pub-src-12/SRR057533/031610_s_3_sequence.txt  https://sra-downloadb.st-va.ncbi.nlm.nih.gov/sos2/sra-pub-run-3/SRR057533/SRR057533.2      GSM546931: mRNASeq_miR-1_12hr_runs1-2  HeLa          miR-1 duplex  12hr  http://ftp.sra.ebi.ac.uk/vol1/fastq/SRR057/SRR057533/SRR057533.fastq.gz  era-fasp@fasp.sra.ebi.ac.uk:vol1/fastq/SRR057/SRR057533/SRR057533.fastq.gz               /content/pysradb_downloads\n",
            " SRP002605       SRX021977                GSM546931: mRNASeq_miR-1_12hr_runs1-2      GSM546931: mRNASeq_miR-1_12hr_runs1-2  9606            Homo sapiens  RNA-Seq          TRANSCRIPTOMIC  cDNA              SRS079396        N/A          Illumina Genome Analyzer II  28019427    513554175  SRR057534      2429249         87452964       GSM546931_2    gs://sra-pub-src-10/SRR057534/013009_s_3_sequence.txt    s3://sra-pub-src-10/SRR057534/013009_s_3_sequence.txt  https://sra-downloadb.st-va.ncbi.nlm.nih.gov/sos2/sra-pub-run-3/SRR057534/SRR057534.2      GSM546931: mRNASeq_miR-1_12hr_runs1-2  HeLa          miR-1 duplex  12hr  http://ftp.sra.ebi.ac.uk/vol1/fastq/SRR057/SRR057534/SRR057534.fastq.gz  era-fasp@fasp.sra.ebi.ac.uk:vol1/fastq/SRR057/SRR057534/SRR057534.fastq.gz               /content/pysradb_downloads\n",
            " SRP002605       SRX021976                 GSM546930: Footprint_miR-1_12hr_run1       GSM546930: Footprint_miR-1_12hr_run1  9606            Homo sapiens  RNA-Seq          TRANSCRIPTOMIC  cDNA              SRS079395        N/A          Illumina Genome Analyzer II  18817795    328083026  SRR057532     18817795        677440620       GSM546930_1    gs://sra-pub-src-13/SRR057532/031610_s_5_sequence.txt    s3://sra-pub-src-13/SRR057532/031610_s_5_sequence.txt  https://sra-downloadb.st-va.ncbi.nlm.nih.gov/sos2/sra-pub-run-3/SRR057532/SRR057532.2       GSM546930: Footprint_miR-1_12hr_run1  HeLa          miR-1 duplex  12hr  http://ftp.sra.ebi.ac.uk/vol1/fastq/SRR057/SRR057532/SRR057532.fastq.gz  era-fasp@fasp.sra.ebi.ac.uk:vol1/fastq/SRR057/SRR057532/SRR057532.fastq.gz               /content/pysradb_downloads\n",
            " SRP002605       SRX021975              GSM546929: mRNASeq_miR-155_12hr_runs1-2    GSM546929: mRNASeq_miR-155_12hr_runs1-2  9606            Homo sapiens  RNA-Seq          TRANSCRIPTOMIC  cDNA              SRS079394        N/A          Illumina Genome Analyzer II  29681643    527199498  SRR057530     27194894        979016184       GSM546929_1    gs://sra-pub-src-10/SRR057530/031610_s_1_sequence.txt    s3://sra-pub-src-10/SRR057530/031610_s_1_sequence.txt  https://sra-downloadb.st-va.ncbi.nlm.nih.gov/sos2/sra-pub-run-3/SRR057530/SRR057530.2    GSM546929: mRNASeq_miR-155_12hr_runs1-2  HeLa        miR-155 duplex  12hr  http://ftp.sra.ebi.ac.uk/vol1/fastq/SRR057/SRR057530/SRR057530.fastq.gz  era-fasp@fasp.sra.ebi.ac.uk:vol1/fastq/SRR057/SRR057530/SRR057530.fastq.gz               /content/pysradb_downloads\n",
            " SRP002605       SRX021975              GSM546929: mRNASeq_miR-155_12hr_runs1-2    GSM546929: mRNASeq_miR-155_12hr_runs1-2  9606            Homo sapiens  RNA-Seq          TRANSCRIPTOMIC  cDNA              SRS079394        N/A          Illumina Genome Analyzer II  29681643    527199498  SRR057531      2486749         89522964       GSM546929_2     gs://sra-pub-src-9/SRR057531/013009_s_2_sequence.txt     s3://sra-pub-src-9/SRR057531/013009_s_2_sequence.txt  https://sra-downloadb.st-va.ncbi.nlm.nih.gov/sos2/sra-pub-run-3/SRR057531/SRR057531.2    GSM546929: mRNASeq_miR-155_12hr_runs1-2  HeLa        miR-155 duplex  12hr  http://ftp.sra.ebi.ac.uk/vol1/fastq/SRR057/SRR057531/SRR057531.fastq.gz  era-fasp@fasp.sra.ebi.ac.uk:vol1/fastq/SRR057/SRR057531/SRR057531.fastq.gz               /content/pysradb_downloads\n",
            " SRP002605       SRX021974               GSM546928: Footprint_miR-155_12hr_run1     GSM546928: Footprint_miR-155_12hr_run1  9606            Homo sapiens  RNA-Seq          TRANSCRIPTOMIC  cDNA              SRS079393        N/A          Illumina Genome Analyzer II  20233514    355460877  SRR057529     20233514        728406504       GSM546928_1    gs://sra-pub-src-10/SRR057529/031610_s_6_sequence.txt    s3://sra-pub-src-10/SRR057529/031610_s_6_sequence.txt  https://sra-downloadb.st-va.ncbi.nlm.nih.gov/sos2/sra-pub-run-3/SRR057529/SRR057529.2     GSM546928: Footprint_miR-155_12hr_run1  HeLa        miR-155 duplex  12hr  http://ftp.sra.ebi.ac.uk/vol1/fastq/SRR057/SRR057529/SRR057529.fastq.gz  era-fasp@fasp.sra.ebi.ac.uk:vol1/fastq/SRR057/SRR057529/SRR057529.fastq.gz               /content/pysradb_downloads\n",
            " SRP002605       SRX021973                 GSM546927: mRNASeq_mock_12hr_runs1-2       GSM546927: mRNASeq_mock_12hr_runs1-2  9606            Homo sapiens  RNA-Seq          TRANSCRIPTOMIC  cDNA              SRS079392        N/A          Illumina Genome Analyzer II  28735355    510452207  SRR057527     26842660        966335760       GSM546927_1    gs://sra-pub-src-10/SRR057527/031610_s_2_sequence.txt    s3://sra-pub-src-10/SRR057527/031610_s_2_sequence.txt  https://sra-downloadb.st-va.ncbi.nlm.nih.gov/sos2/sra-pub-run-3/SRR057527/SRR057527.2       GSM546927: mRNASeq_mock_12hr_runs1-2  HeLa                  mock  12hr  http://ftp.sra.ebi.ac.uk/vol1/fastq/SRR057/SRR057527/SRR057527.fastq.gz  era-fasp@fasp.sra.ebi.ac.uk:vol1/fastq/SRR057/SRR057527/SRR057527.fastq.gz               /content/pysradb_downloads\n",
            " SRP002605       SRX021973                 GSM546927: mRNASeq_mock_12hr_runs1-2       GSM546927: mRNASeq_mock_12hr_runs1-2  9606            Homo sapiens  RNA-Seq          TRANSCRIPTOMIC  cDNA              SRS079392        N/A          Illumina Genome Analyzer II  28735355    510452207  SRR057528      1892695         68137020       GSM546927_2    gs://sra-pub-src-11/SRR057528/013009_s_1_sequence.txt    s3://sra-pub-src-11/SRR057528/013009_s_1_sequence.txt  https://sra-downloadb.st-va.ncbi.nlm.nih.gov/sos2/sra-pub-run-3/SRR057528/SRR057528.2       GSM546927: mRNASeq_mock_12hr_runs1-2  HeLa                  mock  12hr  http://ftp.sra.ebi.ac.uk/vol1/fastq/SRR057/SRR057528/SRR057528.fastq.gz  era-fasp@fasp.sra.ebi.ac.uk:vol1/fastq/SRR057/SRR057528/SRR057528.fastq.gz               /content/pysradb_downloads\n",
            " SRP002605       SRX021972                  GSM546926: Footprint_mock_12hr_run1        GSM546926: Footprint_mock_12hr_run1  9606            Homo sapiens  RNA-Seq          TRANSCRIPTOMIC  cDNA              SRS079391        N/A          Illumina Genome Analyzer II  20366374    350131496  SRR057526     20366374        733189464       GSM546926_1    gs://sra-pub-src-13/SRR057526/031610_s_4_sequence.txt    s3://sra-pub-src-13/SRR057526/031610_s_4_sequence.txt  https://sra-downloadb.st-va.ncbi.nlm.nih.gov/sos2/sra-pub-run-3/SRR057526/SRR057526.2        GSM546926: Footprint_mock_12hr_run1  HeLa                  mock  12hr  http://ftp.sra.ebi.ac.uk/vol1/fastq/SRR057/SRR057526/SRR057526.fastq.gz  era-fasp@fasp.sra.ebi.ac.uk:vol1/fastq/SRR057/SRR057526/SRR057526.fastq.gz               /content/pysradb_downloads\n",
            " SRP002605       SRX021971                GSM546925: mRNASeq_miR-1_32hr_runs1-3      GSM546925: mRNASeq_miR-1_32hr_runs1-3  9606            Homo sapiens  RNA-Seq          TRANSCRIPTOMIC  cDNA              SRS079390        N/A          Illumina Genome Analyzer II  13505056    432546314  SRR057523      5318174        287181396       GSM546925_1    gs://sra-pub-src-11/SRR057523/040109_s_7_sequence.txt    s3://sra-pub-src-11/SRR057523/040109_s_7_sequence.txt  https://sra-downloadb.st-va.ncbi.nlm.nih.gov/sos2/sra-pub-run-3/SRR057523/SRR057523.2      GSM546925: mRNASeq_miR-1_32hr_runs1-3  HeLa          miR-1 duplex  32hr  http://ftp.sra.ebi.ac.uk/vol1/fastq/SRR057/SRR057523/SRR057523.fastq.gz  era-fasp@fasp.sra.ebi.ac.uk:vol1/fastq/SRR057/SRR057523/SRR057523.fastq.gz               /content/pysradb_downloads\n",
            " SRP002605       SRX021971                GSM546925: mRNASeq_miR-1_32hr_runs1-3      GSM546925: mRNASeq_miR-1_32hr_runs1-3  9606            Homo sapiens  RNA-Seq          TRANSCRIPTOMIC  cDNA              SRS079390        N/A          Illumina Genome Analyzer II  13505056    432546314  SRR057524      5693396        204962256       GSM546925_2    gs://sra-pub-src-12/SRR057524/040909_s_8_sequence.txt    s3://sra-pub-src-12/SRR057524/040909_s_8_sequence.txt  https://sra-downloadb.st-va.ncbi.nlm.nih.gov/sos2/sra-pub-run-3/SRR057524/SRR057524.2      GSM546925: mRNASeq_miR-1_32hr_runs1-3  HeLa          miR-1 duplex  32hr  http://ftp.sra.ebi.ac.uk/vol1/fastq/SRR057/SRR057524/SRR057524.fastq.gz  era-fasp@fasp.sra.ebi.ac.uk:vol1/fastq/SRR057/SRR057524/SRR057524.fastq.gz               /content/pysradb_downloads\n",
            " SRP002605       SRX021971                GSM546925: mRNASeq_miR-1_32hr_runs1-3      GSM546925: mRNASeq_miR-1_32hr_runs1-3  9606            Homo sapiens  RNA-Seq          TRANSCRIPTOMIC  cDNA              SRS079390        N/A          Illumina Genome Analyzer II  13505056    432546314  SRR057525      2493486         89765496       GSM546925_3    gs://sra-pub-src-13/SRR057525/013009_s_7_sequence.txt    s3://sra-pub-src-13/SRR057525/013009_s_7_sequence.txt  https://sra-downloadb.st-va.ncbi.nlm.nih.gov/sos2/sra-pub-run-3/SRR057525/SRR057525.2      GSM546925: mRNASeq_miR-1_32hr_runs1-3  HeLa          miR-1 duplex  32hr  http://ftp.sra.ebi.ac.uk/vol1/fastq/SRR057/SRR057525/SRR057525.fastq.gz  era-fasp@fasp.sra.ebi.ac.uk:vol1/fastq/SRR057/SRR057525/SRR057525.fastq.gz               /content/pysradb_downloads\n",
            " SRP002605       SRX021970              GSM546924: Footprint_miR-1_32hr_runs1-2    GSM546924: Footprint_miR-1_32hr_runs1-2  9606            Homo sapiens  RNA-Seq          TRANSCRIPTOMIC  cDNA              SRS079389        N/A          Illumina Genome Analyzer II  20088990    520188778  SRR057521      5910808        212789088       GSM546924_1    gs://sra-pub-src-13/SRR057521/040609_s_3_sequence.txt    s3://sra-pub-src-13/SRR057521/040609_s_3_sequence.txt  https://sra-downloadb.st-va.ncbi.nlm.nih.gov/sos2/sra-pub-run-3/SRR057521/SRR057521.2    GSM546924: Footprint_miR-1_32hr_runs1-2  HeLa          miR-1 duplex  32hr  http://ftp.sra.ebi.ac.uk/vol1/fastq/SRR057/SRR057521/SRR057521.fastq.gz  era-fasp@fasp.sra.ebi.ac.uk:vol1/fastq/SRR057/SRR057521/SRR057521.fastq.gz               /content/pysradb_downloads\n",
            " SRP002605       SRX021970              GSM546924: Footprint_miR-1_32hr_runs1-2    GSM546924: Footprint_miR-1_32hr_runs1-2  9606            Homo sapiens  RNA-Seq          TRANSCRIPTOMIC  cDNA              SRS079389        N/A          Illumina Genome Analyzer II  20088990    520188778  SRR057522     14178182        510414552       GSM546924_2  gs://sra-pub-src-13/SRR057522/051209_2_s_6_sequence.txt  s3://sra-pub-src-13/SRR057522/051209_2_s_6_sequence.txt  https://sra-downloadb.st-va.ncbi.nlm.nih.gov/sos2/sra-pub-run-3/SRR057522/SRR057522.2    GSM546924: Footprint_miR-1_32hr_runs1-2  HeLa          miR-1 duplex  32hr  http://ftp.sra.ebi.ac.uk/vol1/fastq/SRR057/SRR057522/SRR057522.fastq.gz  era-fasp@fasp.sra.ebi.ac.uk:vol1/fastq/SRR057/SRR057522/SRR057522.fastq.gz               /content/pysradb_downloads\n",
            " SRP002605       SRX021969              GSM546923: mRNASeq_miR-155_32hr_runs1-3    GSM546923: mRNASeq_miR-155_32hr_runs1-3  9606            Homo sapiens  RNA-Seq          TRANSCRIPTOMIC  cDNA              SRS079388        N/A          Illumina Genome Analyzer II  14392817    321386177  SRR057518      6010389        216374004       GSM546923_1    gs://sra-pub-src-10/SRR057518/031309_s_8_sequence.txt    s3://sra-pub-src-10/SRR057518/031309_s_8_sequence.txt  https://sra-downloadb.st-va.ncbi.nlm.nih.gov/sos2/sra-pub-run-3/SRR057518/SRR057518.2    GSM546923: mRNASeq_miR-155_32hr_runs1-3  HeLa        miR-155 duplex  32hr  http://ftp.sra.ebi.ac.uk/vol1/fastq/SRR057/SRR057518/SRR057518.fastq.gz  era-fasp@fasp.sra.ebi.ac.uk:vol1/fastq/SRR057/SRR057518/SRR057518.fastq.gz               /content/pysradb_downloads\n",
            " SRP002605       SRX021969              GSM546923: mRNASeq_miR-155_32hr_runs1-3    GSM546923: mRNASeq_miR-155_32hr_runs1-3  9606            Homo sapiens  RNA-Seq          TRANSCRIPTOMIC  cDNA              SRS079388        N/A          Illumina Genome Analyzer II  14392817    321386177  SRR057519      5756777        207243972       GSM546923_2    gs://sra-pub-src-10/SRR057519/040909_s_7_sequence.txt    s3://sra-pub-src-10/SRR057519/040909_s_7_sequence.txt  https://sra-downloadb.st-va.ncbi.nlm.nih.gov/sos2/sra-pub-run-3/SRR057519/SRR057519.2    GSM546923: mRNASeq_miR-155_32hr_runs1-3  HeLa        miR-155 duplex  32hr  http://ftp.sra.ebi.ac.uk/vol1/fastq/SRR057/SRR057519/SRR057519.fastq.gz  era-fasp@fasp.sra.ebi.ac.uk:vol1/fastq/SRR057/SRR057519/SRR057519.fastq.gz               /content/pysradb_downloads\n",
            " SRP002605       SRX021969              GSM546923: mRNASeq_miR-155_32hr_runs1-3    GSM546923: mRNASeq_miR-155_32hr_runs1-3  9606            Homo sapiens  RNA-Seq          TRANSCRIPTOMIC  cDNA              SRS079388        N/A          Illumina Genome Analyzer II  14392817    321386177  SRR057520      2625651         94523436       GSM546923_3    gs://sra-pub-src-14/SRR057520/013009_s_6_sequence.txt    s3://sra-pub-src-14/SRR057520/013009_s_6_sequence.txt  https://sra-downloadb.st-va.ncbi.nlm.nih.gov/sos2/sra-pub-run-3/SRR057520/SRR057520.2    GSM546923: mRNASeq_miR-155_32hr_runs1-3  HeLa        miR-155 duplex  32hr  http://ftp.sra.ebi.ac.uk/vol1/fastq/SRR057/SRR057520/SRR057520.fastq.gz  era-fasp@fasp.sra.ebi.ac.uk:vol1/fastq/SRR057/SRR057520/SRR057520.fastq.gz               /content/pysradb_downloads\n",
            " SRP002605       SRX021968            GSM546922: Footprint_miR-155_32hr_runs1-2  GSM546922: Footprint_miR-155_32hr_runs1-2  9606            Homo sapiens  RNA-Seq          TRANSCRIPTOMIC  cDNA              SRS079387        N/A          Illumina Genome Analyzer II  20421448    535696351  SRR057516      5901290        212446440       GSM546922_1    gs://sra-pub-src-14/SRR057516/040609_s_2_sequence.txt    s3://sra-pub-src-14/SRR057516/040609_s_2_sequence.txt  https://sra-downloadb.st-va.ncbi.nlm.nih.gov/sos2/sra-pub-run-3/SRR057516/SRR057516.2  GSM546922: Footprint_miR-155_32hr_runs1-2  HeLa        miR-155 duplex  32hr  http://ftp.sra.ebi.ac.uk/vol1/fastq/SRR057/SRR057516/SRR057516.fastq.gz  era-fasp@fasp.sra.ebi.ac.uk:vol1/fastq/SRR057/SRR057516/SRR057516.fastq.gz               /content/pysradb_downloads\n",
            " SRP002605       SRX021968            GSM546922: Footprint_miR-155_32hr_runs1-2  GSM546922: Footprint_miR-155_32hr_runs1-2  9606            Homo sapiens  RNA-Seq          TRANSCRIPTOMIC  cDNA              SRS079387        N/A          Illumina Genome Analyzer II  20421448    535696351  SRR057517     14520158        522725688       GSM546922_2  gs://sra-pub-src-14/SRR057517/051209_2_s_7_sequence.txt  s3://sra-pub-src-14/SRR057517/051209_2_s_7_sequence.txt  https://sra-downloadb.st-va.ncbi.nlm.nih.gov/sos2/sra-pub-run-3/SRR057517/SRR057517.2  GSM546922: Footprint_miR-155_32hr_runs1-2  HeLa        miR-155 duplex  32hr  http://ftp.sra.ebi.ac.uk/vol1/fastq/SRR057/SRR057517/SRR057517.fastq.gz  era-fasp@fasp.sra.ebi.ac.uk:vol1/fastq/SRR057/SRR057517/SRR057517.fastq.gz               /content/pysradb_downloads\n",
            " SRP002605       SRX021967                 GSM546921: mRNASeq_mock_32hr_runs1-3       GSM546921: mRNASeq_mock_32hr_runs1-3  9606            Homo sapiens  RNA-Seq          TRANSCRIPTOMIC  cDNA              SRS079386        N/A          Illumina Genome Analyzer II  11441416    317300171  SRR057513      4424341        159276276       GSM546921_1    gs://sra-pub-src-12/SRR057513/032709_s_8_sequence.txt    s3://sra-pub-src-12/SRR057513/032709_s_8_sequence.txt  https://sra-downloadb.st-va.ncbi.nlm.nih.gov/sos2/sra-pub-run-3/SRR057513/SRR057513.2       GSM546921: mRNASeq_mock_32hr_runs1-3  HeLa                  mock  32hr  http://ftp.sra.ebi.ac.uk/vol1/fastq/SRR057/SRR057513/SRR057513.fastq.gz  era-fasp@fasp.sra.ebi.ac.uk:vol1/fastq/SRR057/SRR057513/SRR057513.fastq.gz               /content/pysradb_downloads\n",
            " SRP002605       SRX021967                 GSM546921: mRNASeq_mock_32hr_runs1-3       GSM546921: mRNASeq_mock_32hr_runs1-3  9606            Homo sapiens  RNA-Seq          TRANSCRIPTOMIC  cDNA              SRS079386        N/A          Illumina Genome Analyzer II  11441416    317300171  SRR057514      4435711        239528394       GSM546921_2    gs://sra-pub-src-14/SRR057514/040109_s_8_sequence.txt    s3://sra-pub-src-14/SRR057514/040109_s_8_sequence.txt  https://sra-downloadb.st-va.ncbi.nlm.nih.gov/sos2/sra-pub-run-3/SRR057514/SRR057514.2       GSM546921: mRNASeq_mock_32hr_runs1-3  HeLa                  mock  32hr  http://ftp.sra.ebi.ac.uk/vol1/fastq/SRR057/SRR057514/SRR057514.fastq.gz  era-fasp@fasp.sra.ebi.ac.uk:vol1/fastq/SRR057/SRR057514/SRR057514.fastq.gz               /content/pysradb_downloads\n",
            " SRP002605       SRX021967                 GSM546921: mRNASeq_mock_32hr_runs1-3       GSM546921: mRNASeq_mock_32hr_runs1-3  9606            Homo sapiens  RNA-Seq          TRANSCRIPTOMIC  cDNA              SRS079386        N/A          Illumina Genome Analyzer II  11441416    317300171  SRR057515      2581364         92929104       GSM546921_3    gs://sra-pub-src-12/SRR057515/013009_s_5_sequence.txt    s3://sra-pub-src-12/SRR057515/013009_s_5_sequence.txt  https://sra-downloadb.st-va.ncbi.nlm.nih.gov/sos2/sra-pub-run-3/SRR057515/SRR057515.2       GSM546921: mRNASeq_mock_32hr_runs1-3  HeLa                  mock  32hr  http://ftp.sra.ebi.ac.uk/vol1/fastq/SRR057/SRR057515/SRR057515.fastq.gz  era-fasp@fasp.sra.ebi.ac.uk:vol1/fastq/SRR057/SRR057515/SRR057515.fastq.gz               /content/pysradb_downloads\n",
            " SRP002605       SRX021966               GSM546920: Footprint_mock_32hr_runs1-2     GSM546920: Footprint_mock_32hr_runs1-2  9606            Homo sapiens  RNA-Seq          TRANSCRIPTOMIC  cDNA              SRS079385        N/A          Illumina Genome Analyzer II  23426213    621654389  SRR057511      4807481        173069316       GSM546920_1    gs://sra-pub-src-13/SRR057511/040609_s_1_sequence.txt    s3://sra-pub-src-13/SRR057511/040609_s_1_sequence.txt  https://sra-downloadb.st-va.ncbi.nlm.nih.gov/sos2/sra-pub-run-3/SRR057511/SRR057511.2     GSM546920: Footprint_mock_32hr_runs1-2  HeLa                  mock  32hr  http://ftp.sra.ebi.ac.uk/vol1/fastq/SRR057/SRR057511/SRR057511.fastq.gz  era-fasp@fasp.sra.ebi.ac.uk:vol1/fastq/SRR057/SRR057511/SRR057511.fastq.gz               /content/pysradb_downloads\n",
            " SRP002605       SRX021966               GSM546920: Footprint_mock_32hr_runs1-2     GSM546920: Footprint_mock_32hr_runs1-2  9606            Homo sapiens  RNA-Seq          TRANSCRIPTOMIC  cDNA              SRS079385        N/A          Illumina Genome Analyzer II  23426213    621654389  SRR057512     18618732        670274352       GSM546920_2   gs://sra-pub-src-9/SRR057512/051209_2_s_5_sequence.txt   s3://sra-pub-src-9/SRR057512/051209_2_s_5_sequence.txt  https://sra-downloadb.st-va.ncbi.nlm.nih.gov/sos2/sra-pub-run-3/SRR057512/SRR057512.2     GSM546920: Footprint_mock_32hr_runs1-2  HeLa                  mock  32hr  http://ftp.sra.ebi.ac.uk/vol1/fastq/SRR057/SRR057512/SRR057512.fastq.gz  era-fasp@fasp.sra.ebi.ac.uk:vol1/fastq/SRR057/SRR057512/SRR057512.fastq.gz               /content/pysradb_downloads\n",
            "\n",
            "\n",
            "Total size: 5.3 GB\n",
            "\n",
            "\n",
            "100% 24/24 [00:36<00:00,  1.54s/it]\n",
            "time: 49 s\n"
          ],
          "name": "stdout"
        }
      ]
    },
    {
      "cell_type": "markdown",
      "metadata": {
        "id": "2hpofzci6vNX",
        "colab_type": "text"
      },
      "source": [
        "#Single thread"
      ]
    },
    {
      "cell_type": "code",
      "metadata": {
        "id": "Cmb0efgx6wqr",
        "colab_type": "code",
        "colab": {
          "base_uri": "https://localhost:8080/",
          "height": 615
        },
        "outputId": "5f62be28-aac2-43bf-ab59-a3ef8089ae6e"
      },
      "source": [
        "!pysradb download -y -p SRP002605 && rm -rf pysradb_downloads"
      ],
      "execution_count": 7,
      "outputs": [
        {
          "output_type": "stream",
          "text": [
            "The following files will be downloaded: \n",
            "\n",
            "study_accession experiment_accession experiment_title                           experiment_desc                            organism_taxid  organism_name library_strategy library_source  library_selection sample_accession sample_title instrument                   total_spots total_size run_accession run_total_spots run_total_bases run_alias    sra_url_alt1                                             sra_url_alt2                                             srapath_url                                                                            experiment_alias                           source_name transfection    time  ena_fastq_http                                                           ena_fastq_ftp                                                               download_url out_dir                    \n",
            " SRP002605       SRX021977                GSM546931: mRNASeq_miR-1_12hr_runs1-2      GSM546931: mRNASeq_miR-1_12hr_runs1-2  9606            Homo sapiens  RNA-Seq          TRANSCRIPTOMIC  cDNA              SRS079396        N/A          Illumina Genome Analyzer II  28019427    513554175  SRR057533     25590178        921246408       GSM546931_1    gs://sra-pub-src-12/SRR057533/031610_s_3_sequence.txt    s3://sra-pub-src-12/SRR057533/031610_s_3_sequence.txt  https://sra-downloadb.st-va.ncbi.nlm.nih.gov/sos2/sra-pub-run-3/SRR057533/SRR057533.2      GSM546931: mRNASeq_miR-1_12hr_runs1-2  HeLa          miR-1 duplex  12hr  http://ftp.sra.ebi.ac.uk/vol1/fastq/SRR057/SRR057533/SRR057533.fastq.gz  era-fasp@fasp.sra.ebi.ac.uk:vol1/fastq/SRR057/SRR057533/SRR057533.fastq.gz               /content/pysradb_downloads\n",
            " SRP002605       SRX021977                GSM546931: mRNASeq_miR-1_12hr_runs1-2      GSM546931: mRNASeq_miR-1_12hr_runs1-2  9606            Homo sapiens  RNA-Seq          TRANSCRIPTOMIC  cDNA              SRS079396        N/A          Illumina Genome Analyzer II  28019427    513554175  SRR057534      2429249         87452964       GSM546931_2    gs://sra-pub-src-10/SRR057534/013009_s_3_sequence.txt    s3://sra-pub-src-10/SRR057534/013009_s_3_sequence.txt  https://sra-downloadb.st-va.ncbi.nlm.nih.gov/sos2/sra-pub-run-3/SRR057534/SRR057534.2      GSM546931: mRNASeq_miR-1_12hr_runs1-2  HeLa          miR-1 duplex  12hr  http://ftp.sra.ebi.ac.uk/vol1/fastq/SRR057/SRR057534/SRR057534.fastq.gz  era-fasp@fasp.sra.ebi.ac.uk:vol1/fastq/SRR057/SRR057534/SRR057534.fastq.gz               /content/pysradb_downloads\n",
            " SRP002605       SRX021976                 GSM546930: Footprint_miR-1_12hr_run1       GSM546930: Footprint_miR-1_12hr_run1  9606            Homo sapiens  RNA-Seq          TRANSCRIPTOMIC  cDNA              SRS079395        N/A          Illumina Genome Analyzer II  18817795    328083026  SRR057532     18817795        677440620       GSM546930_1    gs://sra-pub-src-13/SRR057532/031610_s_5_sequence.txt    s3://sra-pub-src-13/SRR057532/031610_s_5_sequence.txt  https://sra-downloadb.st-va.ncbi.nlm.nih.gov/sos2/sra-pub-run-3/SRR057532/SRR057532.2       GSM546930: Footprint_miR-1_12hr_run1  HeLa          miR-1 duplex  12hr  http://ftp.sra.ebi.ac.uk/vol1/fastq/SRR057/SRR057532/SRR057532.fastq.gz  era-fasp@fasp.sra.ebi.ac.uk:vol1/fastq/SRR057/SRR057532/SRR057532.fastq.gz               /content/pysradb_downloads\n",
            " SRP002605       SRX021975              GSM546929: mRNASeq_miR-155_12hr_runs1-2    GSM546929: mRNASeq_miR-155_12hr_runs1-2  9606            Homo sapiens  RNA-Seq          TRANSCRIPTOMIC  cDNA              SRS079394        N/A          Illumina Genome Analyzer II  29681643    527199498  SRR057530     27194894        979016184       GSM546929_1    gs://sra-pub-src-10/SRR057530/031610_s_1_sequence.txt    s3://sra-pub-src-10/SRR057530/031610_s_1_sequence.txt  https://sra-downloadb.st-va.ncbi.nlm.nih.gov/sos2/sra-pub-run-3/SRR057530/SRR057530.2    GSM546929: mRNASeq_miR-155_12hr_runs1-2  HeLa        miR-155 duplex  12hr  http://ftp.sra.ebi.ac.uk/vol1/fastq/SRR057/SRR057530/SRR057530.fastq.gz  era-fasp@fasp.sra.ebi.ac.uk:vol1/fastq/SRR057/SRR057530/SRR057530.fastq.gz               /content/pysradb_downloads\n",
            " SRP002605       SRX021975              GSM546929: mRNASeq_miR-155_12hr_runs1-2    GSM546929: mRNASeq_miR-155_12hr_runs1-2  9606            Homo sapiens  RNA-Seq          TRANSCRIPTOMIC  cDNA              SRS079394        N/A          Illumina Genome Analyzer II  29681643    527199498  SRR057531      2486749         89522964       GSM546929_2     gs://sra-pub-src-9/SRR057531/013009_s_2_sequence.txt     s3://sra-pub-src-9/SRR057531/013009_s_2_sequence.txt  https://sra-downloadb.st-va.ncbi.nlm.nih.gov/sos2/sra-pub-run-3/SRR057531/SRR057531.2    GSM546929: mRNASeq_miR-155_12hr_runs1-2  HeLa        miR-155 duplex  12hr  http://ftp.sra.ebi.ac.uk/vol1/fastq/SRR057/SRR057531/SRR057531.fastq.gz  era-fasp@fasp.sra.ebi.ac.uk:vol1/fastq/SRR057/SRR057531/SRR057531.fastq.gz               /content/pysradb_downloads\n",
            " SRP002605       SRX021974               GSM546928: Footprint_miR-155_12hr_run1     GSM546928: Footprint_miR-155_12hr_run1  9606            Homo sapiens  RNA-Seq          TRANSCRIPTOMIC  cDNA              SRS079393        N/A          Illumina Genome Analyzer II  20233514    355460877  SRR057529     20233514        728406504       GSM546928_1    gs://sra-pub-src-10/SRR057529/031610_s_6_sequence.txt    s3://sra-pub-src-10/SRR057529/031610_s_6_sequence.txt  https://sra-downloadb.st-va.ncbi.nlm.nih.gov/sos2/sra-pub-run-3/SRR057529/SRR057529.2     GSM546928: Footprint_miR-155_12hr_run1  HeLa        miR-155 duplex  12hr  http://ftp.sra.ebi.ac.uk/vol1/fastq/SRR057/SRR057529/SRR057529.fastq.gz  era-fasp@fasp.sra.ebi.ac.uk:vol1/fastq/SRR057/SRR057529/SRR057529.fastq.gz               /content/pysradb_downloads\n",
            " SRP002605       SRX021973                 GSM546927: mRNASeq_mock_12hr_runs1-2       GSM546927: mRNASeq_mock_12hr_runs1-2  9606            Homo sapiens  RNA-Seq          TRANSCRIPTOMIC  cDNA              SRS079392        N/A          Illumina Genome Analyzer II  28735355    510452207  SRR057527     26842660        966335760       GSM546927_1    gs://sra-pub-src-10/SRR057527/031610_s_2_sequence.txt    s3://sra-pub-src-10/SRR057527/031610_s_2_sequence.txt  https://sra-downloadb.st-va.ncbi.nlm.nih.gov/sos2/sra-pub-run-3/SRR057527/SRR057527.2       GSM546927: mRNASeq_mock_12hr_runs1-2  HeLa                  mock  12hr  http://ftp.sra.ebi.ac.uk/vol1/fastq/SRR057/SRR057527/SRR057527.fastq.gz  era-fasp@fasp.sra.ebi.ac.uk:vol1/fastq/SRR057/SRR057527/SRR057527.fastq.gz               /content/pysradb_downloads\n",
            " SRP002605       SRX021973                 GSM546927: mRNASeq_mock_12hr_runs1-2       GSM546927: mRNASeq_mock_12hr_runs1-2  9606            Homo sapiens  RNA-Seq          TRANSCRIPTOMIC  cDNA              SRS079392        N/A          Illumina Genome Analyzer II  28735355    510452207  SRR057528      1892695         68137020       GSM546927_2    gs://sra-pub-src-11/SRR057528/013009_s_1_sequence.txt    s3://sra-pub-src-11/SRR057528/013009_s_1_sequence.txt  https://sra-downloadb.st-va.ncbi.nlm.nih.gov/sos2/sra-pub-run-3/SRR057528/SRR057528.2       GSM546927: mRNASeq_mock_12hr_runs1-2  HeLa                  mock  12hr  http://ftp.sra.ebi.ac.uk/vol1/fastq/SRR057/SRR057528/SRR057528.fastq.gz  era-fasp@fasp.sra.ebi.ac.uk:vol1/fastq/SRR057/SRR057528/SRR057528.fastq.gz               /content/pysradb_downloads\n",
            " SRP002605       SRX021972                  GSM546926: Footprint_mock_12hr_run1        GSM546926: Footprint_mock_12hr_run1  9606            Homo sapiens  RNA-Seq          TRANSCRIPTOMIC  cDNA              SRS079391        N/A          Illumina Genome Analyzer II  20366374    350131496  SRR057526     20366374        733189464       GSM546926_1    gs://sra-pub-src-13/SRR057526/031610_s_4_sequence.txt    s3://sra-pub-src-13/SRR057526/031610_s_4_sequence.txt  https://sra-downloadb.st-va.ncbi.nlm.nih.gov/sos2/sra-pub-run-3/SRR057526/SRR057526.2        GSM546926: Footprint_mock_12hr_run1  HeLa                  mock  12hr  http://ftp.sra.ebi.ac.uk/vol1/fastq/SRR057/SRR057526/SRR057526.fastq.gz  era-fasp@fasp.sra.ebi.ac.uk:vol1/fastq/SRR057/SRR057526/SRR057526.fastq.gz               /content/pysradb_downloads\n",
            " SRP002605       SRX021971                GSM546925: mRNASeq_miR-1_32hr_runs1-3      GSM546925: mRNASeq_miR-1_32hr_runs1-3  9606            Homo sapiens  RNA-Seq          TRANSCRIPTOMIC  cDNA              SRS079390        N/A          Illumina Genome Analyzer II  13505056    432546314  SRR057523      5318174        287181396       GSM546925_1    gs://sra-pub-src-11/SRR057523/040109_s_7_sequence.txt    s3://sra-pub-src-11/SRR057523/040109_s_7_sequence.txt  https://sra-downloadb.st-va.ncbi.nlm.nih.gov/sos2/sra-pub-run-3/SRR057523/SRR057523.2      GSM546925: mRNASeq_miR-1_32hr_runs1-3  HeLa          miR-1 duplex  32hr  http://ftp.sra.ebi.ac.uk/vol1/fastq/SRR057/SRR057523/SRR057523.fastq.gz  era-fasp@fasp.sra.ebi.ac.uk:vol1/fastq/SRR057/SRR057523/SRR057523.fastq.gz               /content/pysradb_downloads\n",
            " SRP002605       SRX021971                GSM546925: mRNASeq_miR-1_32hr_runs1-3      GSM546925: mRNASeq_miR-1_32hr_runs1-3  9606            Homo sapiens  RNA-Seq          TRANSCRIPTOMIC  cDNA              SRS079390        N/A          Illumina Genome Analyzer II  13505056    432546314  SRR057524      5693396        204962256       GSM546925_2    gs://sra-pub-src-12/SRR057524/040909_s_8_sequence.txt    s3://sra-pub-src-12/SRR057524/040909_s_8_sequence.txt  https://sra-downloadb.st-va.ncbi.nlm.nih.gov/sos2/sra-pub-run-3/SRR057524/SRR057524.2      GSM546925: mRNASeq_miR-1_32hr_runs1-3  HeLa          miR-1 duplex  32hr  http://ftp.sra.ebi.ac.uk/vol1/fastq/SRR057/SRR057524/SRR057524.fastq.gz  era-fasp@fasp.sra.ebi.ac.uk:vol1/fastq/SRR057/SRR057524/SRR057524.fastq.gz               /content/pysradb_downloads\n",
            " SRP002605       SRX021971                GSM546925: mRNASeq_miR-1_32hr_runs1-3      GSM546925: mRNASeq_miR-1_32hr_runs1-3  9606            Homo sapiens  RNA-Seq          TRANSCRIPTOMIC  cDNA              SRS079390        N/A          Illumina Genome Analyzer II  13505056    432546314  SRR057525      2493486         89765496       GSM546925_3    gs://sra-pub-src-13/SRR057525/013009_s_7_sequence.txt    s3://sra-pub-src-13/SRR057525/013009_s_7_sequence.txt  https://sra-downloadb.st-va.ncbi.nlm.nih.gov/sos2/sra-pub-run-3/SRR057525/SRR057525.2      GSM546925: mRNASeq_miR-1_32hr_runs1-3  HeLa          miR-1 duplex  32hr  http://ftp.sra.ebi.ac.uk/vol1/fastq/SRR057/SRR057525/SRR057525.fastq.gz  era-fasp@fasp.sra.ebi.ac.uk:vol1/fastq/SRR057/SRR057525/SRR057525.fastq.gz               /content/pysradb_downloads\n",
            " SRP002605       SRX021970              GSM546924: Footprint_miR-1_32hr_runs1-2    GSM546924: Footprint_miR-1_32hr_runs1-2  9606            Homo sapiens  RNA-Seq          TRANSCRIPTOMIC  cDNA              SRS079389        N/A          Illumina Genome Analyzer II  20088990    520188778  SRR057521      5910808        212789088       GSM546924_1    gs://sra-pub-src-13/SRR057521/040609_s_3_sequence.txt    s3://sra-pub-src-13/SRR057521/040609_s_3_sequence.txt  https://sra-downloadb.st-va.ncbi.nlm.nih.gov/sos2/sra-pub-run-3/SRR057521/SRR057521.2    GSM546924: Footprint_miR-1_32hr_runs1-2  HeLa          miR-1 duplex  32hr  http://ftp.sra.ebi.ac.uk/vol1/fastq/SRR057/SRR057521/SRR057521.fastq.gz  era-fasp@fasp.sra.ebi.ac.uk:vol1/fastq/SRR057/SRR057521/SRR057521.fastq.gz               /content/pysradb_downloads\n",
            " SRP002605       SRX021970              GSM546924: Footprint_miR-1_32hr_runs1-2    GSM546924: Footprint_miR-1_32hr_runs1-2  9606            Homo sapiens  RNA-Seq          TRANSCRIPTOMIC  cDNA              SRS079389        N/A          Illumina Genome Analyzer II  20088990    520188778  SRR057522     14178182        510414552       GSM546924_2  gs://sra-pub-src-13/SRR057522/051209_2_s_6_sequence.txt  s3://sra-pub-src-13/SRR057522/051209_2_s_6_sequence.txt  https://sra-downloadb.st-va.ncbi.nlm.nih.gov/sos2/sra-pub-run-3/SRR057522/SRR057522.2    GSM546924: Footprint_miR-1_32hr_runs1-2  HeLa          miR-1 duplex  32hr  http://ftp.sra.ebi.ac.uk/vol1/fastq/SRR057/SRR057522/SRR057522.fastq.gz  era-fasp@fasp.sra.ebi.ac.uk:vol1/fastq/SRR057/SRR057522/SRR057522.fastq.gz               /content/pysradb_downloads\n",
            " SRP002605       SRX021969              GSM546923: mRNASeq_miR-155_32hr_runs1-3    GSM546923: mRNASeq_miR-155_32hr_runs1-3  9606            Homo sapiens  RNA-Seq          TRANSCRIPTOMIC  cDNA              SRS079388        N/A          Illumina Genome Analyzer II  14392817    321386177  SRR057518      6010389        216374004       GSM546923_1    gs://sra-pub-src-10/SRR057518/031309_s_8_sequence.txt    s3://sra-pub-src-10/SRR057518/031309_s_8_sequence.txt  https://sra-downloadb.st-va.ncbi.nlm.nih.gov/sos2/sra-pub-run-3/SRR057518/SRR057518.2    GSM546923: mRNASeq_miR-155_32hr_runs1-3  HeLa        miR-155 duplex  32hr  http://ftp.sra.ebi.ac.uk/vol1/fastq/SRR057/SRR057518/SRR057518.fastq.gz  era-fasp@fasp.sra.ebi.ac.uk:vol1/fastq/SRR057/SRR057518/SRR057518.fastq.gz               /content/pysradb_downloads\n",
            " SRP002605       SRX021969              GSM546923: mRNASeq_miR-155_32hr_runs1-3    GSM546923: mRNASeq_miR-155_32hr_runs1-3  9606            Homo sapiens  RNA-Seq          TRANSCRIPTOMIC  cDNA              SRS079388        N/A          Illumina Genome Analyzer II  14392817    321386177  SRR057519      5756777        207243972       GSM546923_2    gs://sra-pub-src-10/SRR057519/040909_s_7_sequence.txt    s3://sra-pub-src-10/SRR057519/040909_s_7_sequence.txt  https://sra-downloadb.st-va.ncbi.nlm.nih.gov/sos2/sra-pub-run-3/SRR057519/SRR057519.2    GSM546923: mRNASeq_miR-155_32hr_runs1-3  HeLa        miR-155 duplex  32hr  http://ftp.sra.ebi.ac.uk/vol1/fastq/SRR057/SRR057519/SRR057519.fastq.gz  era-fasp@fasp.sra.ebi.ac.uk:vol1/fastq/SRR057/SRR057519/SRR057519.fastq.gz               /content/pysradb_downloads\n",
            " SRP002605       SRX021969              GSM546923: mRNASeq_miR-155_32hr_runs1-3    GSM546923: mRNASeq_miR-155_32hr_runs1-3  9606            Homo sapiens  RNA-Seq          TRANSCRIPTOMIC  cDNA              SRS079388        N/A          Illumina Genome Analyzer II  14392817    321386177  SRR057520      2625651         94523436       GSM546923_3    gs://sra-pub-src-14/SRR057520/013009_s_6_sequence.txt    s3://sra-pub-src-14/SRR057520/013009_s_6_sequence.txt  https://sra-downloadb.st-va.ncbi.nlm.nih.gov/sos2/sra-pub-run-3/SRR057520/SRR057520.2    GSM546923: mRNASeq_miR-155_32hr_runs1-3  HeLa        miR-155 duplex  32hr  http://ftp.sra.ebi.ac.uk/vol1/fastq/SRR057/SRR057520/SRR057520.fastq.gz  era-fasp@fasp.sra.ebi.ac.uk:vol1/fastq/SRR057/SRR057520/SRR057520.fastq.gz               /content/pysradb_downloads\n",
            " SRP002605       SRX021968            GSM546922: Footprint_miR-155_32hr_runs1-2  GSM546922: Footprint_miR-155_32hr_runs1-2  9606            Homo sapiens  RNA-Seq          TRANSCRIPTOMIC  cDNA              SRS079387        N/A          Illumina Genome Analyzer II  20421448    535696351  SRR057516      5901290        212446440       GSM546922_1    gs://sra-pub-src-14/SRR057516/040609_s_2_sequence.txt    s3://sra-pub-src-14/SRR057516/040609_s_2_sequence.txt  https://sra-downloadb.st-va.ncbi.nlm.nih.gov/sos2/sra-pub-run-3/SRR057516/SRR057516.2  GSM546922: Footprint_miR-155_32hr_runs1-2  HeLa        miR-155 duplex  32hr  http://ftp.sra.ebi.ac.uk/vol1/fastq/SRR057/SRR057516/SRR057516.fastq.gz  era-fasp@fasp.sra.ebi.ac.uk:vol1/fastq/SRR057/SRR057516/SRR057516.fastq.gz               /content/pysradb_downloads\n",
            " SRP002605       SRX021968            GSM546922: Footprint_miR-155_32hr_runs1-2  GSM546922: Footprint_miR-155_32hr_runs1-2  9606            Homo sapiens  RNA-Seq          TRANSCRIPTOMIC  cDNA              SRS079387        N/A          Illumina Genome Analyzer II  20421448    535696351  SRR057517     14520158        522725688       GSM546922_2  gs://sra-pub-src-14/SRR057517/051209_2_s_7_sequence.txt  s3://sra-pub-src-14/SRR057517/051209_2_s_7_sequence.txt  https://sra-downloadb.st-va.ncbi.nlm.nih.gov/sos2/sra-pub-run-3/SRR057517/SRR057517.2  GSM546922: Footprint_miR-155_32hr_runs1-2  HeLa        miR-155 duplex  32hr  http://ftp.sra.ebi.ac.uk/vol1/fastq/SRR057/SRR057517/SRR057517.fastq.gz  era-fasp@fasp.sra.ebi.ac.uk:vol1/fastq/SRR057/SRR057517/SRR057517.fastq.gz               /content/pysradb_downloads\n",
            " SRP002605       SRX021967                 GSM546921: mRNASeq_mock_32hr_runs1-3       GSM546921: mRNASeq_mock_32hr_runs1-3  9606            Homo sapiens  RNA-Seq          TRANSCRIPTOMIC  cDNA              SRS079386        N/A          Illumina Genome Analyzer II  11441416    317300171  SRR057513      4424341        159276276       GSM546921_1    gs://sra-pub-src-12/SRR057513/032709_s_8_sequence.txt    s3://sra-pub-src-12/SRR057513/032709_s_8_sequence.txt  https://sra-downloadb.st-va.ncbi.nlm.nih.gov/sos2/sra-pub-run-3/SRR057513/SRR057513.2       GSM546921: mRNASeq_mock_32hr_runs1-3  HeLa                  mock  32hr  http://ftp.sra.ebi.ac.uk/vol1/fastq/SRR057/SRR057513/SRR057513.fastq.gz  era-fasp@fasp.sra.ebi.ac.uk:vol1/fastq/SRR057/SRR057513/SRR057513.fastq.gz               /content/pysradb_downloads\n",
            " SRP002605       SRX021967                 GSM546921: mRNASeq_mock_32hr_runs1-3       GSM546921: mRNASeq_mock_32hr_runs1-3  9606            Homo sapiens  RNA-Seq          TRANSCRIPTOMIC  cDNA              SRS079386        N/A          Illumina Genome Analyzer II  11441416    317300171  SRR057514      4435711        239528394       GSM546921_2    gs://sra-pub-src-14/SRR057514/040109_s_8_sequence.txt    s3://sra-pub-src-14/SRR057514/040109_s_8_sequence.txt  https://sra-downloadb.st-va.ncbi.nlm.nih.gov/sos2/sra-pub-run-3/SRR057514/SRR057514.2       GSM546921: mRNASeq_mock_32hr_runs1-3  HeLa                  mock  32hr  http://ftp.sra.ebi.ac.uk/vol1/fastq/SRR057/SRR057514/SRR057514.fastq.gz  era-fasp@fasp.sra.ebi.ac.uk:vol1/fastq/SRR057/SRR057514/SRR057514.fastq.gz               /content/pysradb_downloads\n",
            " SRP002605       SRX021967                 GSM546921: mRNASeq_mock_32hr_runs1-3       GSM546921: mRNASeq_mock_32hr_runs1-3  9606            Homo sapiens  RNA-Seq          TRANSCRIPTOMIC  cDNA              SRS079386        N/A          Illumina Genome Analyzer II  11441416    317300171  SRR057515      2581364         92929104       GSM546921_3    gs://sra-pub-src-12/SRR057515/013009_s_5_sequence.txt    s3://sra-pub-src-12/SRR057515/013009_s_5_sequence.txt  https://sra-downloadb.st-va.ncbi.nlm.nih.gov/sos2/sra-pub-run-3/SRR057515/SRR057515.2       GSM546921: mRNASeq_mock_32hr_runs1-3  HeLa                  mock  32hr  http://ftp.sra.ebi.ac.uk/vol1/fastq/SRR057/SRR057515/SRR057515.fastq.gz  era-fasp@fasp.sra.ebi.ac.uk:vol1/fastq/SRR057/SRR057515/SRR057515.fastq.gz               /content/pysradb_downloads\n",
            " SRP002605       SRX021966               GSM546920: Footprint_mock_32hr_runs1-2     GSM546920: Footprint_mock_32hr_runs1-2  9606            Homo sapiens  RNA-Seq          TRANSCRIPTOMIC  cDNA              SRS079385        N/A          Illumina Genome Analyzer II  23426213    621654389  SRR057511      4807481        173069316       GSM546920_1    gs://sra-pub-src-13/SRR057511/040609_s_1_sequence.txt    s3://sra-pub-src-13/SRR057511/040609_s_1_sequence.txt  https://sra-downloadb.st-va.ncbi.nlm.nih.gov/sos2/sra-pub-run-3/SRR057511/SRR057511.2     GSM546920: Footprint_mock_32hr_runs1-2  HeLa                  mock  32hr  http://ftp.sra.ebi.ac.uk/vol1/fastq/SRR057/SRR057511/SRR057511.fastq.gz  era-fasp@fasp.sra.ebi.ac.uk:vol1/fastq/SRR057/SRR057511/SRR057511.fastq.gz               /content/pysradb_downloads\n",
            " SRP002605       SRX021966               GSM546920: Footprint_mock_32hr_runs1-2     GSM546920: Footprint_mock_32hr_runs1-2  9606            Homo sapiens  RNA-Seq          TRANSCRIPTOMIC  cDNA              SRS079385        N/A          Illumina Genome Analyzer II  23426213    621654389  SRR057512     18618732        670274352       GSM546920_2   gs://sra-pub-src-9/SRR057512/051209_2_s_5_sequence.txt   s3://sra-pub-src-9/SRR057512/051209_2_s_5_sequence.txt  https://sra-downloadb.st-va.ncbi.nlm.nih.gov/sos2/sra-pub-run-3/SRR057512/SRR057512.2     GSM546920: Footprint_mock_32hr_runs1-2  HeLa                  mock  32hr  http://ftp.sra.ebi.ac.uk/vol1/fastq/SRR057/SRR057512/SRR057512.fastq.gz  era-fasp@fasp.sra.ebi.ac.uk:vol1/fastq/SRR057/SRR057512/SRR057512.fastq.gz               /content/pysradb_downloads\n",
            "\n",
            "\n",
            "Total size: 5.3 GB\n",
            "\n",
            "\n",
            "100% 24/24 [00:45<00:00,  1.89s/it]\n",
            "time: 1min\n"
          ],
          "name": "stdout"
        }
      ]
    },
    {
      "cell_type": "markdown",
      "metadata": {
        "id": "rIFpI9kOQqjE",
        "colab_type": "text"
      },
      "source": [
        "# Using ASPERA (fastq) - Multithreaded"
      ]
    },
    {
      "cell_type": "code",
      "metadata": {
        "id": "UmuzaFoGQvU7",
        "colab_type": "code",
        "colab": {
          "base_uri": "https://localhost:8080/",
          "height": 51
        },
        "outputId": "aa750927-3bfc-42bf-f939-667160d4ef40"
      },
      "source": [
        "!pysradb download -t 8 --use_ascp -p SRP002605 && rm -rf pysradb_downloads"
      ],
      "execution_count": 8,
      "outputs": [
        {
          "output_type": "stream",
          "text": [
            "100% 24/24 [01:38<00:00,  4.10s/it]\n",
            "time: 1min 44s\n"
          ],
          "name": "stdout"
        }
      ]
    },
    {
      "cell_type": "markdown",
      "metadata": {
        "id": "GPfF_XldQ5tC",
        "colab_type": "text"
      },
      "source": [
        "# Using ASPERA (fastq) - Singlethreaded"
      ]
    },
    {
      "cell_type": "code",
      "metadata": {
        "id": "CjXk6Tl0Q7Pv",
        "colab_type": "code",
        "colab": {
          "base_uri": "https://localhost:8080/",
          "height": 63
        },
        "outputId": "10c0a48a-0767-4563-f550-719c957dfe6d"
      },
      "source": [
        "!pysradb download --use_ascp -y -p SRP002605 && rm -rf pysradb_downloads"
      ],
      "execution_count": null,
      "outputs": [
        {
          "output_type": "stream",
          "text": [
            " 42% 10/24 [10:24<14:34, 62.49s/it]\n"
          ],
          "name": "stdout"
        }
      ]
    }
  ]
}