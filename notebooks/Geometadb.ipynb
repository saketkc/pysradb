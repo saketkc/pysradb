{
 "cells": [
  {
   "cell_type": "code",
   "execution_count": 1,
   "metadata": {},
   "outputs": [],
   "source": [
    "from pysradb import download_geodb_file, GEOdb"
   ]
  },
  {
   "cell_type": "code",
   "execution_count": 2,
   "metadata": {},
   "outputs": [
    {
     "name": "stderr",
     "output_type": "stream",
     "text": [
      "GEOmetadb.sqlite.gz: 444MB [00:14, 32.2MB/s]                           \n"
     ]
    },
    {
     "name": "stdout",
     "output_type": "stream",
     "text": [
      "Extracting /panfs/cmb-panasas2/skchoudh/github_projects/pysradb/notebooks/GEOmetadb.sqlite.gz ...\n",
      "Done!\n",
      "Metadata associated with /panfs/cmb-panasas2/skchoudh/github_projects/pysradb/notebooks/GEOmetadb.sqlite:\n",
      "                 name                value\n",
      "0      schema version                  1.0\n",
      "1  creation timestamp  2018-12-01 21:26:27\n"
     ]
    }
   ],
   "source": [
    "download_geodb_file()"
   ]
  },
  {
   "cell_type": "code",
   "execution_count": 3,
   "metadata": {},
   "outputs": [],
   "source": [
    "geo_db = GEOdb('./GEOmetadb.sqlite')"
   ]
  },
  {
   "cell_type": "code",
   "execution_count": 4,
   "metadata": {},
   "outputs": [
    {
     "data": {
      "text/html": [
       "<div>\n",
       "<style scoped>\n",
       "    .dataframe tbody tr th:only-of-type {\n",
       "        vertical-align: middle;\n",
       "    }\n",
       "\n",
       "    .dataframe tbody tr th {\n",
       "        vertical-align: top;\n",
       "    }\n",
       "\n",
       "    .dataframe thead th {\n",
       "        text-align: right;\n",
       "    }\n",
       "</style>\n",
       "<table border=\"1\" class=\"dataframe\">\n",
       "  <thead>\n",
       "    <tr style=\"text-align: right;\">\n",
       "      <th></th>\n",
       "      <th>ID</th>\n",
       "      <th>contact</th>\n",
       "      <th>contributor</th>\n",
       "      <th>gse</th>\n",
       "      <th>last_update_date</th>\n",
       "      <th>overall_design</th>\n",
       "      <th>pubmed_id</th>\n",
       "      <th>repeats</th>\n",
       "      <th>repeats_sample_list</th>\n",
       "      <th>status</th>\n",
       "      <th>submission_date</th>\n",
       "      <th>summary</th>\n",
       "      <th>supplementary_file</th>\n",
       "      <th>title</th>\n",
       "      <th>type</th>\n",
       "      <th>variable</th>\n",
       "      <th>variable_description</th>\n",
       "      <th>web_link</th>\n",
       "    </tr>\n",
       "  </thead>\n",
       "  <tbody>\n",
       "    <tr>\n",
       "      <th>0</th>\n",
       "      <td>99805.0</td>\n",
       "      <td>Name: Robert Ivanek;\\tPhone: +41 61 328 5026;\\...</td>\n",
       "      <td>Patrick,,Rodrigues Fernandes ;\\tRobert Ivanek;...</td>\n",
       "      <td>GSE114314</td>\n",
       "      <td>2018-06-22</td>\n",
       "      <td>Bulk RNA Seq was performed from sort purified ...</td>\n",
       "      <td>29925996</td>\n",
       "      <td>None</td>\n",
       "      <td>None</td>\n",
       "      <td>Public on Jun 22 2018</td>\n",
       "      <td>2018-05-10</td>\n",
       "      <td>Plasmacytoid  dendritic cells (pDCs) are an im...</td>\n",
       "      <td>None</td>\n",
       "      <td>A distinct lineage of origin reveals heterogen...</td>\n",
       "      <td>Expression profiling by high throughput sequen...</td>\n",
       "      <td>None</td>\n",
       "      <td>None</td>\n",
       "      <td>None</td>\n",
       "    </tr>\n",
       "  </tbody>\n",
       "</table>\n",
       "</div>"
      ],
      "text/plain": [
       "        ID                                            contact  \\\n",
       "0  99805.0  Name: Robert Ivanek;\\tPhone: +41 61 328 5026;\\...   \n",
       "\n",
       "                                         contributor        gse  \\\n",
       "0  Patrick,,Rodrigues Fernandes ;\\tRobert Ivanek;...  GSE114314   \n",
       "\n",
       "  last_update_date                                     overall_design  \\\n",
       "0       2018-06-22  Bulk RNA Seq was performed from sort purified ...   \n",
       "\n",
       "   pubmed_id repeats repeats_sample_list                 status  \\\n",
       "0   29925996    None                None  Public on Jun 22 2018   \n",
       "\n",
       "  submission_date                                            summary  \\\n",
       "0      2018-05-10  Plasmacytoid  dendritic cells (pDCs) are an im...   \n",
       "\n",
       "  supplementary_file                                              title  \\\n",
       "0               None  A distinct lineage of origin reveals heterogen...   \n",
       "\n",
       "                                                type variable  \\\n",
       "0  Expression profiling by high throughput sequen...     None   \n",
       "\n",
       "  variable_description web_link  \n",
       "0                 None     None  "
      ]
     },
     "execution_count": 4,
     "metadata": {},
     "output_type": "execute_result"
    }
   ],
   "source": [
    "geo_db.gse_metadata('GSE114314')"
   ]
  },
  {
   "cell_type": "code",
   "execution_count": null,
   "metadata": {},
   "outputs": [],
   "source": [
    "1723137 2478174 3151382 4779223 5400669 6689291 7250343 8193109 9230038 0264222"
   ]
  },
  {
   "cell_type": "code",
   "execution_count": 5,
   "metadata": {},
   "outputs": [
    {
     "data": {
      "text/html": [
       "<div>\n",
       "<style scoped>\n",
       "    .dataframe tbody tr th:only-of-type {\n",
       "        vertical-align: middle;\n",
       "    }\n",
       "\n",
       "    .dataframe tbody tr th {\n",
       "        vertical-align: top;\n",
       "    }\n",
       "\n",
       "    .dataframe thead th {\n",
       "        text-align: right;\n",
       "    }\n",
       "</style>\n",
       "<table border=\"1\" class=\"dataframe\">\n",
       "  <thead>\n",
       "    <tr style=\"text-align: right;\">\n",
       "      <th></th>\n",
       "      <th>gse</th>\n",
       "      <th>gsm</th>\n",
       "    </tr>\n",
       "  </thead>\n",
       "  <tbody>\n",
       "    <tr>\n",
       "      <th>0</th>\n",
       "      <td>GSE114314</td>\n",
       "      <td>GSM3139409</td>\n",
       "    </tr>\n",
       "    <tr>\n",
       "      <th>1</th>\n",
       "      <td>GSE114314</td>\n",
       "      <td>GSM3139410</td>\n",
       "    </tr>\n",
       "    <tr>\n",
       "      <th>2</th>\n",
       "      <td>GSE114314</td>\n",
       "      <td>GSM3139411</td>\n",
       "    </tr>\n",
       "    <tr>\n",
       "      <th>3</th>\n",
       "      <td>GSE114314</td>\n",
       "      <td>GSM3139412</td>\n",
       "    </tr>\n",
       "    <tr>\n",
       "      <th>4</th>\n",
       "      <td>GSE114314</td>\n",
       "      <td>GSM3139413</td>\n",
       "    </tr>\n",
       "    <tr>\n",
       "      <th>5</th>\n",
       "      <td>GSE114314</td>\n",
       "      <td>GSM3139414</td>\n",
       "    </tr>\n",
       "    <tr>\n",
       "      <th>6</th>\n",
       "      <td>GSE114314</td>\n",
       "      <td>GSM3139415</td>\n",
       "    </tr>\n",
       "    <tr>\n",
       "      <th>7</th>\n",
       "      <td>GSE114314</td>\n",
       "      <td>GSM3139416</td>\n",
       "    </tr>\n",
       "    <tr>\n",
       "      <th>8</th>\n",
       "      <td>GSE114314</td>\n",
       "      <td>GSM3139417</td>\n",
       "    </tr>\n",
       "    <tr>\n",
       "      <th>9</th>\n",
       "      <td>GSE114314</td>\n",
       "      <td>GSM3139418</td>\n",
       "    </tr>\n",
       "    <tr>\n",
       "      <th>10</th>\n",
       "      <td>GSE114314</td>\n",
       "      <td>GSM3139419</td>\n",
       "    </tr>\n",
       "    <tr>\n",
       "      <th>11</th>\n",
       "      <td>GSE114314</td>\n",
       "      <td>GSM3139420</td>\n",
       "    </tr>\n",
       "    <tr>\n",
       "      <th>12</th>\n",
       "      <td>GSE114314</td>\n",
       "      <td>GSM3139421</td>\n",
       "    </tr>\n",
       "    <tr>\n",
       "      <th>13</th>\n",
       "      <td>GSE114314</td>\n",
       "      <td>GSM3139422</td>\n",
       "    </tr>\n",
       "    <tr>\n",
       "      <th>14</th>\n",
       "      <td>GSE114314</td>\n",
       "      <td>GSM3139423</td>\n",
       "    </tr>\n",
       "    <tr>\n",
       "      <th>15</th>\n",
       "      <td>GSE114314</td>\n",
       "      <td>GSM3139424</td>\n",
       "    </tr>\n",
       "  </tbody>\n",
       "</table>\n",
       "</div>"
      ],
      "text/plain": [
       "          gse         gsm\n",
       "0   GSE114314  GSM3139409\n",
       "1   GSE114314  GSM3139410\n",
       "2   GSE114314  GSM3139411\n",
       "3   GSE114314  GSM3139412\n",
       "4   GSE114314  GSM3139413\n",
       "5   GSE114314  GSM3139414\n",
       "6   GSE114314  GSM3139415\n",
       "7   GSE114314  GSM3139416\n",
       "8   GSE114314  GSM3139417\n",
       "9   GSE114314  GSM3139418\n",
       "10  GSE114314  GSM3139419\n",
       "11  GSE114314  GSM3139420\n",
       "12  GSE114314  GSM3139421\n",
       "13  GSE114314  GSM3139422\n",
       "14  GSE114314  GSM3139423\n",
       "15  GSE114314  GSM3139424"
      ]
     },
     "execution_count": 5,
     "metadata": {},
     "output_type": "execute_result"
    }
   ],
   "source": [
    "geo_db.gse_to_gsm('GSE114314')"
   ]
  },
  {
   "cell_type": "code",
   "execution_count": 6,
   "metadata": {},
   "outputs": [
    {
     "data": {
      "text/html": [
       "<div>\n",
       "<style scoped>\n",
       "    .dataframe tbody tr th:only-of-type {\n",
       "        vertical-align: middle;\n",
       "    }\n",
       "\n",
       "    .dataframe tbody tr th {\n",
       "        vertical-align: top;\n",
       "    }\n",
       "\n",
       "    .dataframe thead th {\n",
       "        text-align: right;\n",
       "    }\n",
       "</style>\n",
       "<table border=\"1\" class=\"dataframe\">\n",
       "  <thead>\n",
       "    <tr style=\"text-align: right;\">\n",
       "      <th></th>\n",
       "    </tr>\n",
       "  </thead>\n",
       "  <tbody>\n",
       "  </tbody>\n",
       "</table>\n",
       "</div>"
      ],
      "text/plain": [
       "Empty DataFrame\n",
       "Columns: []\n",
       "Index: []"
      ]
     },
     "execution_count": 6,
     "metadata": {},
     "output_type": "execute_result"
    }
   ],
   "source": [
    "geo_db.gsm_metadata('GSM3139409')"
   ]
  },
  {
   "cell_type": "code",
   "execution_count": 7,
   "metadata": {},
   "outputs": [
    {
     "data": {
      "text/html": [
       "<div>\n",
       "<style scoped>\n",
       "    .dataframe tbody tr th:only-of-type {\n",
       "        vertical-align: middle;\n",
       "    }\n",
       "\n",
       "    .dataframe tbody tr th {\n",
       "        vertical-align: top;\n",
       "    }\n",
       "\n",
       "    .dataframe thead th {\n",
       "        text-align: right;\n",
       "    }\n",
       "</style>\n",
       "<table border=\"1\" class=\"dataframe\">\n",
       "  <thead>\n",
       "    <tr style=\"text-align: right;\">\n",
       "      <th></th>\n",
       "      <th>from_acc</th>\n",
       "      <th>to_acc</th>\n",
       "      <th>to_type</th>\n",
       "    </tr>\n",
       "  </thead>\n",
       "  <tbody>\n",
       "    <tr>\n",
       "      <th>0</th>\n",
       "      <td>GSM3139409</td>\n",
       "      <td>GSE114314</td>\n",
       "      <td>gse</td>\n",
       "    </tr>\n",
       "    <tr>\n",
       "      <th>1</th>\n",
       "      <td>GSM3139409</td>\n",
       "      <td>GSE114315</td>\n",
       "      <td>gse</td>\n",
       "    </tr>\n",
       "  </tbody>\n",
       "</table>\n",
       "</div>"
      ],
      "text/plain": [
       "     from_acc     to_acc to_type\n",
       "0  GSM3139409  GSE114314     gse\n",
       "1  GSM3139409  GSE114315     gse"
      ]
     },
     "execution_count": 7,
     "metadata": {},
     "output_type": "execute_result"
    }
   ],
   "source": [
    "geo_db.geo_convert('GSM3139409')"
   ]
  },
  {
   "cell_type": "code",
   "execution_count": 8,
   "metadata": {},
   "outputs": [],
   "source": [
    "geo_db.guess_srp_from_gse('GSE114314')"
   ]
  },
  {
   "cell_type": "code",
   "execution_count": null,
   "metadata": {},
   "outputs": [],
   "source": []
  }
 ],
 "metadata": {
  "kernelspec": {
   "display_name": "py3 (pysradb)",
   "language": "python",
   "name": "pysradb"
  },
  "language_info": {
   "codemirror_mode": {
    "name": "ipython",
    "version": 3
   },
   "file_extension": ".py",
   "mimetype": "text/x-python",
   "name": "python",
   "nbconvert_exporter": "python",
   "pygments_lexer": "ipython3",
   "version": "3.7.1"
  }
 },
 "nbformat": 4,
 "nbformat_minor": 2
}
